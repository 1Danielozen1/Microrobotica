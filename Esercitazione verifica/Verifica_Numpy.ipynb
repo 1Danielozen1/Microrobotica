{
 "cells": [
  {
   "cell_type": "markdown",
   "id": "33c7c6f5",
   "metadata": {},
   "source": [
    "# Verifica \n",
    "## Numpy"
   ]
  },
  {
   "cell_type": "markdown",
   "id": "b45baaf6",
   "metadata": {},
   "source": [
    "## COGNOME NOME"
   ]
  },
  {
   "cell_type": "code",
   "execution_count": null,
   "id": "de282db8",
   "metadata": {},
   "outputs": [],
   "source": [
    "import numpy as np\n",
    "import matplotlib.pyplot as plt"
   ]
  },
  {
   "cell_type": "markdown",
   "id": "fa2ae6b5",
   "metadata": {},
   "source": [
    "# Esercizio 1\n",
    "Ogni giorno tu e un tuo compagno vi giocate la merenda giornaliera lanciando due dadi a sei facce. Ogni giorno, la merenda è tua se dopo un certo numero `n_lanci` di lanci dei due dadi esce un valore maggiore o uguale a 10. Supponendo 200 giorni di scuola totali, scrivi una funzione che:\n",
    "- faccia uso di della libreria `numpy`;\n",
    "- abbia `n_lanci` come parametro;\n",
    "- restituisca il numero totale di giorni in cui vinci tu la merenda, simulando i lanci dei dadi per i 200 giorni di scuola.\n",
    "\n",
    "**[BONUS]** Quanto deve valere `n_lanci` affinchè il gioco sia equo?\n",
    "\n",
    "# Esercizio 2\n",
    "Creare un notebook jupyter che a partire dal testo contenuto nel file ___\"J_Verne_girodelmondoin80giorni.txt\"___:\n",
    "\n",
    "1. crei un dizionario delle frequenze per ciascun carattere (**line feed escluso**); \n",
    "2. crei il dizionario delle adiacenze per ciascun carattere (**line feed escluso**);\n",
    "3. **[FACOLTATIVO]** crei un indice dei capitoli. Ogni capitolo inizia riportando il numero romano del capitolo e il suo titolo in questo modo:\n",
    "\n",
    ">CAPITOLO XXIX.\n",
    ">\n",
    ">Nel quale si narrano cose che capitano unicamente sulle ferrovie\n",
    ">americane.\n",
    "\n",
    "\n",
    "# Esercizio 3\n",
    "In una classe di 27 alunni ogni alunno riceve 10 valutazioni di una materia assegnate a caso. Le valutazioni possibili sono comprese tra 2 e 10, inclusi gli estremi, e non sono ammessi i mezzi voti.\n",
    "Utilizza numpy per simulare i 27 x 10 voti.\n",
    "Calcola quanti alunni hanno un voto medio > 6.\n",
    "\n",
    "# Esercizio 4\n",
    "L'array prezzo definito nella cella sottostante contiene una serie storica giornaliera di un prezzo in Euro. La serie storica ricopre in periodo di 100 giorni\n",
    "Conta il numero di giorni in cui il prezzo è maggiore di 55 euro.\n",
    "Trova i minimi locali del prezzo.\n",
    "Crea un nuovo array identico a prezzo, ma in cui sostituisci il valore 50 a tutti i prezzi che nell'array originale sono inferiori a 50 euro.\n",
    "Traccia un grafico dell'andamento del prezzo così ottenuto."
   ]
  },
  {
   "cell_type": "code",
   "execution_count": null,
   "id": "388266b9",
   "metadata": {},
   "outputs": [],
   "source": [
    "# NON CANCELLARE QUESTO CODICE\n",
    "np.random.seed(1234567)\n",
    "prezzo = 50. + np.cumsum(np.random.normal(0,1.,100))"
   ]
  },
  {
   "cell_type": "markdown",
   "id": "753532e2",
   "metadata": {},
   "source": [
    "### Es 1)"
   ]
  },
  {
   "cell_type": "code",
   "execution_count": null,
   "id": "dfa92a81",
   "metadata": {},
   "outputs": [],
   "source": [
    "n_giorni = 200\n",
    "def trovaVincitore(n_lanci):\n",
    "    a = np.random.randint(1,7,(n_giorni, n_lanci)) + np.random.randint(1,7,(n_giorni, n_lanci))\n",
    "    b = np.random.randint(1,7,(n_giorni, n_lanci)) + np.random.randint(1,7,(n_giorni, n_lanci))\n",
    "    max_a = np.max(a, axis=1)\n",
    "    max_b = np.max(b, axis=1)\n",
    "    vittorie_a = np.count_nonzero((max_a > max_b) & (max_a >= 10))\n",
    "    #vittorie_b = np.count_nonzero((max_a < max_b) & (max_b >= 10))\n",
    "    return vittorie_a\n"
   ]
  },
  {
   "cell_type": "code",
   "execution_count": null,
   "id": "655a39b2",
   "metadata": {},
   "outputs": [],
   "source": [
    "print(f\"Ho vinto {trovaVincitore(10)} volte\")"
   ]
  },
  {
   "cell_type": "code",
   "execution_count": null,
   "metadata": {},
   "outputs": [],
   "source": [
    "n_lanci, n_dadi, n_giorni = 4, 2, 200\n",
    "compagno1 = np.random.randint(1, 7, (n_giorni, n_lanci)) + np.random.randint(1, 7, (n_giorni, n_lanci))\n",
    "compagno2 = np.random.randint(1, 7, (n_giorni, n_lanci)) + np.random.randint(1, 7, (n_giorni, n_lanci))\n",
    "\n",
    "def n_vittorie_c1(c1, c2):\n",
    "    report_1 = (c1 > c2) & (c1 >= 10)\n",
    "    report_2 = (c2 > c1) & (c2 >= 10)\n",
    "    \n",
    "    indici = np.zeros((n_giorni, n_lanci), dtype='int16')\n",
    "    indici[:] = np.arange(0, n_lanci)\n",
    "        \n",
    "    arr_ind_1 = np.zeros((n_giorni, n_lanci), dtype='int16') + n_lanci\n",
    "    arr_ind_2 = np.zeros((n_giorni, n_lanci), dtype='int16') + n_lanci\n",
    "    \n",
    "    arr_ind_1[report_1 == True] = indici[report_1 == True]\n",
    "    arr_ind_2[report_2 == True] = indici[report_2 == True]\n",
    "    \n",
    "    return np.count_nonzero(np.min(arr_ind_1, axis=1) < np.min(arr_ind_2, axis=1))"
   ]
  },
  {
   "cell_type": "code",
   "execution_count": null,
   "metadata": {},
   "outputs": [],
   "source": [
    "n_vittorie_c1(compagno1,compagno2)"
   ]
  },
  {
   "cell_type": "markdown",
   "id": "efa01ee1",
   "metadata": {},
   "source": [
    "### Es 2)"
   ]
  },
  {
   "cell_type": "code",
   "execution_count": null,
   "id": "b1da4a06",
   "metadata": {},
   "outputs": [],
   "source": [
    "file = open(\"./J_Verne_girodelmondoin80giorni.txt\")\n",
    "contenuto = file.readlines()[28:]\n",
    "s = \"\"\n",
    "for a in contenuto:\n",
    "    s += a\n",
    "\n",
    "l_contenuto = []\n",
    "for a in s:\n",
    "    l_contenuto.append(a.lower())\n",
    "    \n",
    "array_contenuto = np.array(l_contenuto)"
   ]
  },
  {
   "cell_type": "code",
   "execution_count": null,
   "id": "b109a3c1",
   "metadata": {},
   "outputs": [],
   "source": [
    "frequenza_caratteri = {}\n",
    "\n",
    "for i in array_contenuto:\n",
    "    if i not in frequenza_caratteri:\n",
    "        frequenza_caratteri[i] = np.count_nonzero(array_contenuto == i)\n",
    "print(frequenza_caratteri)"
   ]
  },
  {
   "cell_type": "markdown",
   "id": "aa7a583b",
   "metadata": {},
   "source": [
    "diz_adiacenze = {}\n",
    "for i,char in enumerate(book[:-1]):\n",
    "    if char not in diz_adiacenze:\n",
    "        diz_adiacenze[char] = []\n",
    "    diz_adiacenze[char].append(book[i+1])"
   ]
  },
  {
   "cell_type": "markdown",
   "id": "32be5f62",
   "metadata": {},
   "source": [
    "### ES 3)"
   ]
  },
  {
   "cell_type": "code",
   "execution_count": null,
   "id": "7d05fa79",
   "metadata": {},
   "outputs": [],
   "source": [
    "n_alunni = 27\n",
    "n_valutazioni = 10\n",
    "\n",
    "voti_alunni = np.random.randint(2, 11, (n_alunni, n_valutazioni))"
   ]
  },
  {
   "cell_type": "code",
   "execution_count": null,
   "id": "70346b52",
   "metadata": {},
   "outputs": [],
   "source": [
    "medie = np.mean(voti_alunni, axis=1)\n",
    "\n",
    "studenti_sopra_6 = np.count_nonzero(medie > 6)\n",
    "#print(f\"{medie}\\n{voti_alunni}\")"
   ]
  },
  {
   "cell_type": "code",
   "execution_count": null,
   "id": "f7bd25ea",
   "metadata": {},
   "outputs": [],
   "source": [
    "print(f\"Gli sudenti con una media superiore al sei sono {studenti_sopra_6}.\")"
   ]
  },
  {
   "cell_type": "markdown",
   "id": "e6518b8d",
   "metadata": {},
   "source": [
    "### ES 4"
   ]
  },
  {
   "cell_type": "code",
   "execution_count": null,
   "id": "beb44ea8",
   "metadata": {},
   "outputs": [],
   "source": [
    "np.count_nonzero(prezzo > 55)"
   ]
  },
  {
   "cell_type": "code",
   "execution_count": null,
   "id": "a109a97f",
   "metadata": {},
   "outputs": [],
   "source": [
    "Sx = np.roll(prezzo, -1)\n",
    "Dx = np.roll(prezzo, 1)\n",
    "\n",
    "prezzo[(prezzo < Sx) & (prezzo < Dx)]"
   ]
  },
  {
   "cell_type": "code",
   "execution_count": null,
   "id": "7ecc2af3",
   "metadata": {},
   "outputs": [],
   "source": [
    "Array_identico_a_prezzo = prezzo.copy()\n",
    "\n",
    "Array_identico_a_prezzo[Array_identico_a_prezzo < 50] = 50\n",
    "Array_identico_a_prezzo"
   ]
  },
  {
   "cell_type": "code",
   "execution_count": null,
   "id": "945008f1",
   "metadata": {},
   "outputs": [],
   "source": [
    "plt.plot(Array_identico_a_prezzo)\n",
    "plt.show"
   ]
  }
 ],
 "metadata": {
  "kernelspec": {
   "display_name": "Python 3 (ipykernel)",
   "language": "python",
   "name": "python3"
  },
  "language_info": {
   "codemirror_mode": {
    "name": "ipython",
    "version": 3
   },
   "file_extension": ".py",
   "mimetype": "text/x-python",
   "name": "python",
   "nbconvert_exporter": "python",
   "pygments_lexer": "ipython3",
   "version": "3.12.0"
  }
 },
 "nbformat": 4,
 "nbformat_minor": 5
}
