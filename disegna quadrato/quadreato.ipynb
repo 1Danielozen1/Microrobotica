{
 "cells": [
  {
   "cell_type": "markdown",
   "metadata": {},
   "source": [
    "## Quadrato\n",
    "disegna un quadrato a schacchiera con la dimensione del lato e la dimensioni di ogni singolo quadratino\n",
    "Colorare il quadrato come una scacchiera (celle pari).\n",
    "Tutte le altre celle devono essere sfumate"
   ]
  },
  {
   "cell_type": "code",
   "execution_count": 10,
   "metadata": {},
   "outputs": [],
   "source": [
    "import numpy as np\n",
    "import matplotlib.pyplot as plt"
   ]
  },
  {
   "cell_type": "code",
   "execution_count": 11,
   "metadata": {},
   "outputs": [
    {
     "data": {
      "text/plain": [
       "array([[255, 255, 255, 255, 255, 255, 255, 255, 255, 255],\n",
       "       [255, 255, 255, 255, 255, 255, 255, 255, 255, 255],\n",
       "       [255, 255, 255, 255, 255, 255, 255, 255, 255, 255],\n",
       "       [255, 255, 255,   0,   0,   0,   0, 255, 255, 255],\n",
       "       [255, 255, 255,   0,   0,   0,   0, 255, 255, 255],\n",
       "       [255, 255, 255,   0,   0,   0,   0, 255, 255, 255],\n",
       "       [255, 255, 255,   0,   0,   0,   0, 255, 255, 255],\n",
       "       [255, 255, 255, 255, 255, 255, 255, 255, 255, 255],\n",
       "       [255, 255, 255, 255, 255, 255, 255, 255, 255, 255],\n",
       "       [255, 255, 255, 255, 255, 255, 255, 255, 255, 255]], dtype=int16)"
      ]
     },
     "execution_count": 11,
     "metadata": {},
     "output_type": "execute_result"
    }
   ],
   "source": [
    "size = 10\n",
    "l = 3\n",
    "\n",
    "quadrato = np.zeros((size,size), dtype= np.int16)\n",
    "quadrato[0:l, :] = 255\n",
    "quadrato[-l:, :] = 255\n",
    "quadrato[:, 0:l] = 255\n",
    "quadrato[:, -l:] = 255\n",
    "quadrato"
   ]
  }
 ],
 "metadata": {
  "kernelspec": {
   "display_name": "Python 3",
   "language": "python",
   "name": "python3"
  },
  "language_info": {
   "codemirror_mode": {
    "name": "ipython",
    "version": 3
   },
   "file_extension": ".py",
   "mimetype": "text/x-python",
   "name": "python",
   "nbconvert_exporter": "python",
   "pygments_lexer": "ipython3",
   "version": "3.12.0"
  }
 },
 "nbformat": 4,
 "nbformat_minor": 2
}
