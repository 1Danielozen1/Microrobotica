{
 "cells": [
  {
   "cell_type": "code",
   "execution_count": null,
   "metadata": {},
   "outputs": [],
   "source": [
    "#Scarica il file marziani.csv e crea un notebook in cui riproduci il grafico del paragrafo 9 del capitolo 7. Usa solo i metodi grafici di cui sono dotati i dataframe\n",
    "import numpy as np\n",
    "import matplotlib.pyplot as plt\n",
    "import pandas as pd"
   ]
  },
  {
   "cell_type": "code",
   "execution_count": null,
   "metadata": {},
   "outputs": [],
   "source": [
    "data=pd.read_csv(\"./marziani.csv\")\n",
    "data"
   ]
  },
  {
   "cell_type": "code",
   "execution_count": null,
   "metadata": {},
   "outputs": [],
   "source": [
    "s1=data[data[\"specie\"] == \"Robby\"]\n",
    "s2=data[data[\"specie\"] == \"Simmy\"]\n",
    "#print(s1, s2)\n"
   ]
  },
  {
   "cell_type": "code",
   "execution_count": null,
   "metadata": {},
   "outputs": [],
   "source": [
    "d=data[['n_arti', 'peso', 'altezza', 'larghezza']]\n",
    "#print(d.columns)\n",
    "#print(enumerate(data.columns))"
   ]
  },
  {
   "cell_type": "code",
   "execution_count": null,
   "metadata": {},
   "outputs": [],
   "source": [
    "n=len(d.columns)\n",
    "fig, axs = plt.subplots(n,n, figsize=(16,16), constrained_layout=True)\n",
    "for j, dato_y in enumerate(d.columns):\n",
    "    for i, dato_x in enumerate(d.columns):\n",
    "        if i!=j:\n",
    "            axs[j,i].scatter(s2[dato_x].values, s1[dato_y].values, c='r', label=\"simmy\")\n",
    "            axs[j,i].scatter(s1[dato_x].values, s2[dato_y].values, c='b', label=\"robby\")\n",
    "            axs[j,i].set_xlabel(dato_x, fontsize=14)\n",
    "            axs[j,i].set_ylabel(dato_y, fontsize=14)\n",
    "            axs[j, i].legend()\n",
    "        else:\n",
    "            axs[j,i].hist(s2[dato_x], bins=10, color='r', label=\"Simmy\", alpha=0.5)  \n",
    "            axs[j,i].hist(s1[dato_x], bins=10, color='b', label=\"Robby\", alpha=0.5)\n",
    "            axs[j,i].set_xlabel(dato_x, fontsize=14)\n",
    "            axs[j,i].set_ylabel(\"n° esemplari\", fontsize=14)\n",
    "            axs[j, i].legend()\n",
    "plt.show()\n"
   ]
  }
 ],
 "metadata": {
  "kernelspec": {
   "display_name": "Python 3",
   "language": "python",
   "name": "python3"
  },
  "language_info": {
   "codemirror_mode": {
    "name": "ipython",
    "version": 3
   },
   "file_extension": ".py",
   "mimetype": "text/x-python",
   "name": "python",
   "nbconvert_exporter": "python",
   "pygments_lexer": "ipython3",
   "version": "3.12.1"
  }
 },
 "nbformat": 4,
 "nbformat_minor": 2
}
