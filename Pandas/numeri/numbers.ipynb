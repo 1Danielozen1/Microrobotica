{
 "cells": [
  {
   "cell_type": "code",
   "execution_count": null,
   "metadata": {},
   "outputs": [],
   "source": [
    "#creare 10 * 10 sottografici con un numero per riga\n",
    "import numpy as np\n",
    "import matplotlib.pyplot as plt"
   ]
  },
  {
   "cell_type": "code",
   "execution_count": null,
   "metadata": {},
   "outputs": [],
   "source": [
    "f=open(\"mnist_784_csv.csv\", \"r\")\n",
    "lines=f.readlines()\n",
    "f.close()"
   ]
  },
  {
   "cell_type": "code",
   "execution_count": null,
   "metadata": {},
   "outputs": [],
   "source": [
    "imgs=[]\n",
    "num=[]\n",
    "\n",
    "for line in lines[1:]:\n",
    "    l_line=list(map(int, line.split(\",\")))\n",
    "    imgs.append(l_line[:-1])\n",
    "    num.append(l_line[-1])"
   ]
  },
  {
   "cell_type": "code",
   "execution_count": null,
   "metadata": {},
   "outputs": [],
   "source": [
    "imgs = np.array(imgs)\n",
    "num = np.array(num)"
   ]
  },
  {
   "cell_type": "code",
   "execution_count": null,
   "metadata": {},
   "outputs": [],
   "source": [
    "fig, axs = plt.subplots(nrows=10, ncols=10, figsize=(10,10))\n",
    "for k in range(10):\n",
    "    number = np.array(num == k)\n",
    "    indici = np.arange(0, len(num))\n",
    "    for c in range(10):\n",
    "        i = np.random.choice(indici[number], replace = False)\n",
    "        axs[k,c].imshow(imgs[i].reshape((28,28)), cmap='Greys')#magma\n",
    "        axs[k,c].axis(\"off\")\n",
    "plt.show()"
   ]
  }
 ],
 "metadata": {
  "kernelspec": {
   "display_name": "Python 3",
   "language": "python",
   "name": "python3"
  },
  "language_info": {
   "codemirror_mode": {
    "name": "ipython",
    "version": 3
   },
   "file_extension": ".py",
   "mimetype": "text/x-python",
   "name": "python",
   "nbconvert_exporter": "python",
   "pygments_lexer": "ipython3",
   "version": "3.12.1"
  }
 },
 "nbformat": 4,
 "nbformat_minor": 2
}
