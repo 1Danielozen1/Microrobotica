{
 "cells": [
  {
   "cell_type": "code",
   "execution_count": null,
   "id": "e253a7ce",
   "metadata": {},
   "outputs": [],
   "source": [
    "import numpy as np\n",
    "import matplotlib.pyplot as plt"
   ]
  },
  {
   "cell_type": "code",
   "execution_count": null,
   "id": "db9a896c",
   "metadata": {},
   "outputs": [],
   "source": [
    "f = open(\"./mnist_784_csv.csv\", \"r\")\n",
    "lines = f.readlines()\n",
    "f.close()\n",
    "\n",
    "lines = lines[1:]"
   ]
  },
  {
   "cell_type": "code",
   "execution_count": null,
   "id": "7aee1e24",
   "metadata": {},
   "outputs": [],
   "source": [
    "images = []\n",
    "digits = []\n",
    "for line in lines:\n",
    "    image = np.array([int(val) for val in line.split(',')[:-1]])\n",
    "    images.append(image)\n",
    "    digit = int((line.split(',')[-1]))\n",
    "    digits.append(digit)"
   ]
  },
  {
   "cell_type": "code",
   "execution_count": null,
   "id": "bcb6d52e",
   "metadata": {},
   "outputs": [],
   "source": [
    "images = np.array(images)\n",
    "digits = np.array(digits)"
   ]
  },
  {
   "cell_type": "code",
   "execution_count": null,
   "id": "e88a79e8",
   "metadata": {},
   "outputs": [],
   "source": [
    "fig, ax = plt.subplots(figsize=(3,3))\n",
    "ax.imshow(images[12].reshape(28, 28), cmap='Greys')\n",
    "ax.set_title(digits[12])\n",
    "plt.show()"
   ]
  },
  {
   "cell_type": "code",
   "execution_count": null,
   "id": "ec17e575",
   "metadata": {},
   "outputs": [],
   "source": [
    "fig, axs = plt.subplots(nrows=10, ncols=10, figsize=(10,10))\n",
    "for digit, ax in enumerate(axs.reshape(-1)):\n",
    "    digit = digit % 10\n",
    "    arraybool = (digits == digit)\n",
    "    digit_images = images[arraybool]\n",
    "    i = np.random.randint(0, len(digit_images))\n",
    "    ax.imshow(digit_images[i].reshape(28, 28), cmap='Greys')\n",
    "    ax.axis('off')\n",
    "\n",
    "plt.show()"
   ]
  }
 ],
 "metadata": {
  "kernelspec": {
   "display_name": "Python 3 (ipykernel)",
   "language": "python",
   "name": "python3"
  },
  "language_info": {
   "codemirror_mode": {
    "name": "ipython",
    "version": 3
   },
   "file_extension": ".py",
   "mimetype": "text/x-python",
   "name": "python",
   "nbconvert_exporter": "python",
   "pygments_lexer": "ipython3",
   "version": "3.12.1"
  }
 },
 "nbformat": 4,
 "nbformat_minor": 5
}
