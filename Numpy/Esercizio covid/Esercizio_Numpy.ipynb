{
 "cells": [
  {
   "cell_type": "code",
   "execution_count": null,
   "id": "f42442f0",
   "metadata": {},
   "outputs": [],
   "source": [
    "import numpy as np"
   ]
  },
  {
   "cell_type": "markdown",
   "metadata": {},
   "source": [
    "### Esercizio 1\n",
    "Nel file `covid-19_gen1.txt` è presente l'RNA di un virus SARS-COV-2. L'RNA è una sequenza in cui si alternano 4 simboli (detti nucleotidi): A, T, C, G.\n",
    "L'RNA del  virus SARS-COV-2 contiene 29903 nucleotidi. Leggi il file e crea un array di Numpy contenente i 29903 elementi, uno per ogni nucleotide secondo l'ordine contenuto nel file.\n",
    "\n",
    "Utilizza Numpy per:\n",
    "1. calcolare la frequenza assoluta di ogni nucleotide;\n",
    "2. calcolare la frequenza assoluta della sequenza A,T,G;\n",
    "4. sapendo che la sequenza A,T,G,T,T,T,G,T,T,T,T,T sta all'inzio del segmento di RNA che codifica la proteina spike, individuare se la proteina spike è presente nell'RNA: in caso affermativo ottenere la posizione iniziale della proteina spike all'interno dell'array. *SUGGERIMENTO*: a partire dall'array di 29903 elementi costruisci la matrice contenente tutte le possibili sequenze di 12 nucleotidi contenute nell'array iniziale."
   ]
  },
  {
   "cell_type": "code",
   "execution_count": null,
   "id": "f3b90308",
   "metadata": {},
   "outputs": [],
   "source": [
    "file = open(\"./covid-19_gen1.txt\")\n",
    "s = file.read()\n",
    "\n",
    "l_file = []\n",
    "for a in s:\n",
    "    if a != \"\\n\":\n",
    "        l_file.append(a)"
   ]
  },
  {
   "cell_type": "code",
   "execution_count": null,
   "id": "b39fd551",
   "metadata": {},
   "outputs": [],
   "source": [
    "array_file = np.array(l_file)"
   ]
  },
  {
   "cell_type": "code",
   "execution_count": null,
   "id": "d60063b0",
   "metadata": {},
   "outputs": [],
   "source": [
    "A,T,G,C = np.count_nonzero(array_file == 'A'), np.count_nonzero(array_file == 'T'), np.count_nonzero(array_file == 'G'), np.count_nonzero(array_file == 'C')\n",
    "print(A,T,G,C)"
   ]
  },
  {
   "cell_type": "code",
   "execution_count": null,
   "id": "8da700f0",
   "metadata": {},
   "outputs": [],
   "source": [
    "a1 = np.roll(array_file, -1)\n",
    "a2 = np.roll(array_file, -2)\n",
    "\n",
    "ATG = np.array((array_file == 'A') & (a1 == 'T') & (a2 == 'G'))\n",
    "\n",
    "ATG_freq_assoluta=len(ATG.nonzero()[0])\n",
    "ATG_freq_assoluta"
   ]
  },
  {
   "cell_type": "code",
   "execution_count": null,
   "id": "82aac29e",
   "metadata": {},
   "outputs": [],
   "source": [
    "if \"ATGTTTGTTTTT\" in s:\n",
    "    print(True)"
   ]
  }
 ],
 "metadata": {
  "kernelspec": {
   "display_name": "Python 3 (ipykernel)",
   "language": "python",
   "name": "python3"
  },
  "language_info": {
   "codemirror_mode": {
    "name": "ipython",
    "version": 3
   },
   "file_extension": ".py",
   "mimetype": "text/x-python",
   "name": "python",
   "nbconvert_exporter": "python",
   "pygments_lexer": "ipython3",
   "version": "3.12.1"
  }
 },
 "nbformat": 4,
 "nbformat_minor": 5
}
