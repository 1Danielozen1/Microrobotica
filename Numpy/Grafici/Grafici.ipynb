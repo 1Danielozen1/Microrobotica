{
 "cells": [
  {
   "cell_type": "code",
   "execution_count": null,
   "metadata": {},
   "outputs": [],
   "source": [
    "import numpy as np\n",
    "import matplotlib.pyplot as plt"
   ]
  },
  {
   "cell_type": "code",
   "execution_count": null,
   "metadata": {},
   "outputs": [],
   "source": [
    "x = np.linspace(0, 4*np.pi, 1000)\n",
    "y1 = np.sin(x)\n",
    "y2 = np.cos(x)"
   ]
  },
  {
   "cell_type": "code",
   "execution_count": null,
   "metadata": {},
   "outputs": [],
   "source": [
    "# Usando matplotlib con appoccio OO (Object Oriented)\n",
    "\n",
    "#Questa riga di codice va sempre usata per crare un grafico\n",
    "fig, ax = plt.subplots(figsize = (6,3)) # dimensione delle figura in pollici\n",
    "\n",
    "# fig è la figura, cioè è la pagina bianca sulla quale poi disegneremo il grafico\n",
    "# ax è un oggetto che si chiama Axes e serve per crearci dentro un grafico (1 Axes = 1 Grafico)\n",
    "\n",
    "ax.plot(x, y1, \"g--\", linewidth = 2, label = \"sin(x)\")\n",
    "ax.plot(x, y2, \"r-.\", linewidth = 2, label = \"cos(x)\")\n",
    "ax.legend()\n",
    "ax.set_title(\"Un grafico a linea\", fontsize = 12)\n",
    "ax.set_xlabel(\"x\")\n",
    "ax.set_ylabel(\"y\")\n",
    "ax.grid()\n",
    "plt.show"
   ]
  },
  {
   "attachments": {
    "image.png": {
     "image/png": "[encoded data removed]"
    }
   },
   "cell_type": "markdown",
   "metadata": {},
   "source": [
    "![image.png](attachment:image.png)"
   ]
  },
  {
   "cell_type": "code",
   "execution_count": null,
   "metadata": {},
   "outputs": [],
   "source": [
    "x = np.linspace(0, 1, 1000)\n",
    "y1 = x ** 2\n",
    "y2 = x ** 3\n",
    "y3 = x ** 4"
   ]
  },
  {
   "cell_type": "code",
   "execution_count": null,
   "metadata": {},
   "outputs": [],
   "source": [
    "fig, ax = plt.subplots(figsize = (6,3))\n",
    "\n",
    "ax.plot(x, y1, \"g\", linewidth = 1, label = \"$x^2$\")\n",
    "ax.plot(x, y2, \"b\", linewidth = 1, label = \"$x^3$\")\n",
    "ax.plot(x, y3, \"r\", linewidth = 1, label = \"$x^4$\")\n",
    "ax.legend()\n",
    "plt.savefig(\"Es_1.pdf\", dpi = 100)\n",
    "plt.show"
   ]
  }
 ],
 "metadata": {
  "kernelspec": {
   "display_name": "Python 3",
   "language": "python",
   "name": "python3"
  },
  "language_info": {
   "codemirror_mode": {
    "name": "ipython",
    "version": 3
   },
   "file_extension": ".py",
   "mimetype": "text/x-python",
   "name": "python",
   "nbconvert_exporter": "python",
   "pygments_lexer": "ipython3",
   "version": "3.12.1"
  }
 },
 "nbformat": 4,
 "nbformat_minor": 2
}
