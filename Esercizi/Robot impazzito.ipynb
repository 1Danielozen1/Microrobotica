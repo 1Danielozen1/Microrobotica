{
 "cells": [
  {
   "cell_type": "markdown",
   "metadata": {},
   "source": [
    "### ROBOT IMPAZZITO"
   ]
  },
  {
   "cell_type": "code",
   "execution_count": null,
   "metadata": {},
   "outputs": [],
   "source": [
    "import numpy as np\n",
    "import random"
   ]
  },
  {
   "cell_type": "code",
   "execution_count": null,
   "metadata": {},
   "outputs": [],
   "source": [
    "#%%timeit\n",
    "\n",
    "posizione = 0\n",
    "numero_secondi = 5 * 24 * 60 * 60\n",
    "for i in range(numero_secondi):\n",
    "    posizione += (2 * random.randint(0, 1)) - 1\n",
    "print(f\"Spostamento totale accumulato rispetto alla posizione centrale: {posizione}cm\")"
   ]
  },
  {
   "cell_type": "code",
   "execution_count": null,
   "metadata": {},
   "outputs": [],
   "source": [
    "#%%timeit\n",
    "\n",
    "numero_secondi = 5 * 24 * 60 * 60\n",
    "movimenti = np.random.choice([-1, +1], numero_secondi)\n",
    "posizione = np.sum(movimenti)\n",
    "print(f\"Spostamento totale accumulato rispetto alla posizione centrale: {posizione}cm\")"
   ]
  }
 ],
 "metadata": {
  "kernelspec": {
   "display_name": "Python 3",
   "language": "python",
   "name": "python3"
  },
  "language_info": {
   "codemirror_mode": {
    "name": "ipython",
    "version": 3
   },
   "file_extension": ".py",
   "mimetype": "text/x-python",
   "name": "python",
   "nbconvert_exporter": "python",
   "pygments_lexer": "ipython3",
   "version": "3.12.0"
  }
 },
 "nbformat": 4,
 "nbformat_minor": 2
}
