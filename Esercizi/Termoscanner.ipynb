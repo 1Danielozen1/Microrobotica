{
 "cells": [
  {
   "cell_type": "markdown",
   "metadata": {},
   "source": [
    "### Termoscanner"
   ]
  },
  {
   "cell_type": "code",
   "execution_count": null,
   "metadata": {},
   "outputs": [],
   "source": [
    "import numpy as np\n",
    "import uuid"
   ]
  },
  {
   "cell_type": "code",
   "execution_count": null,
   "metadata": {},
   "outputs": [],
   "source": [
    "n_passeggeri = 200000\n",
    "temperature = np.random.normal(36.5, 0.25, n_passeggeri)\n",
    "identificativi = np.array([str(uuid.uuid4()) for _ in range(n_passeggeri)])\n",
    "print(f\"{temperature[:5]}\\n{identificativi[:5]}\")"
   ]
  },
  {
   "cell_type": "code",
   "execution_count": null,
   "metadata": {},
   "outputs": [],
   "source": [
    "#%%timeit\n",
    "contatore = 0\n",
    "for t in temperature:\n",
    "    if t > 37.5:\n",
    "        contatore += 1\n",
    "print(f\"Il numero di passeggeri con temperatura maggiore di 37.5 °C. è {contatore}\\n\")\n",
    "print(\"ATTENZIONE passeggeri con temperatura maggiore di 37.5 °C:\")\n",
    "for i in range(n_passeggeri):\n",
    "    if temperature[i] > 37.5:\n",
    "        print(identificativi[i])"
   ]
  },
  {
   "cell_type": "code",
   "execution_count": null,
   "metadata": {},
   "outputs": [],
   "source": [
    "#%%timeit\n",
    "\n",
    "print(f\"Il numero di passeggeri con temperatura maggiore di 37.5 °C. è {np.sum(temperature > 37.5)}\\n\")\n",
    "print(\"ATTENZIONE passeggeri con temperatura maggiore di 37.5 °C:\")\n",
    "print(identificativi[temperature > 37.5])"
   ]
  }
 ],
 "metadata": {
  "kernelspec": {
   "display_name": "Python 3",
   "language": "python",
   "name": "python3"
  },
  "language_info": {
   "codemirror_mode": {
    "name": "ipython",
    "version": 3
   },
   "file_extension": ".py",
   "mimetype": "text/x-python",
   "name": "python",
   "nbconvert_exporter": "python",
   "pygments_lexer": "ipython3",
   "version": "3.12.0"
  }
 },
 "nbformat": 4,
 "nbformat_minor": 2
}
