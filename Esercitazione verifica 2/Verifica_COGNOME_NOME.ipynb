{
 "cells": [
  {
   "cell_type": "markdown",
   "id": "44ce9d47",
   "metadata": {},
   "source": [
    "# Verifica su Python e Numpy\n",
    "### COGNOME NOME"
   ]
  },
  {
   "cell_type": "code",
   "execution_count": 1,
   "id": "6f9ac6d2",
   "metadata": {},
   "outputs": [],
   "source": [
    "import numpy as np\n",
    "import matplotlib.pyplot as plt"
   ]
  },
  {
   "cell_type": "markdown",
   "id": "e75da7dd",
   "metadata": {},
   "source": [
    "\n",
    "## ESERCIZIO 1\n",
    "Il file *10000Pi.txt* contiene le prime 10000 cifre del $\\pi$ in base 10.\n",
    "\n",
    "Crea un programma in Python 3 (decidi se usare Numpy oppure no) che legga il file e generi un dizionario in cui:\n",
    "* le chiavi siano le cifre da 0 a 9,\n",
    "* i valori siano il numero di occorrenze della cifra chiave nelle prime 10000 cifre decimali del $\\pi$.\n",
    "\n",
    "Rispondi alle domande seguenti:\n",
    "* nelle cifre del $\\pi$ capita più spesso uno 0 dopo il 9 oppure un 9 dopo lo 0?\n",
    "* è presente la seguenza 999999? In caso di risposta affermativa individua in quale punto della sequenza di cifre decimali è presente."
   ]
  },
  {
   "cell_type": "code",
   "execution_count": 2,
   "id": "c238539f",
   "metadata": {},
   "outputs": [
    {
     "name": "stdout",
     "output_type": "stream",
     "text": [
      "{'1': 1026, '4': 1012, '5': 1046, '9': 1014, '2': 1021, '6': 1021, '3': 974, '8': 948, '7': 970, '0': 968}\n"
     ]
    }
   ],
   "source": [
    "file = open(\"./10000Pi.txt\")\n",
    "s = file.read()[2:-2]\n",
    "diz = {}\n",
    "\n",
    "s2 = np.array([int(c) for c in s])\n",
    "\n",
    "for a in s:\n",
    "    if a not in diz:\n",
    "        diz[a] = np.count_nonzero(s2 == int(a))\n",
    "\n",
    "print(diz)"
   ]
  },
  {
   "cell_type": "code",
   "execution_count": 3,
   "metadata": {},
   "outputs": [
    {
     "name": "stdout",
     "output_type": "stream",
     "text": [
      "Ci sono più 0 dopo i 9\n"
     ]
    }
   ],
   "source": [
    "dx = np.roll(s2, 1)\n",
    "\n",
    "s0_9 = np.count_nonzero((s2 == 0) & (dx == 9))\n",
    "s9_0 = np.count_nonzero((s2 == 9) & (dx == 0))\n",
    "\n",
    "if s0_9 > s9_0:\n",
    "    print(\"Ci sono più 9 dopo lo 0\")\n",
    "else: print(\"Ci sono più 0 dopo i 9\")"
   ]
  },
  {
   "cell_type": "code",
   "execution_count": 4,
   "metadata": {},
   "outputs": [
    {
     "data": {
      "text/plain": [
       "array([761], dtype=int64)"
      ]
     },
     "execution_count": 4,
     "metadata": {},
     "output_type": "execute_result"
    }
   ],
   "source": [
    "l = []\n",
    "for a in range(1,len(\"999999\")):\n",
    "    l.append(np.roll(s2, a))\n",
    "array = np.array(l)\n",
    "\n",
    "seq = np.array((s2 == 9) & (array[0] == 9) & (array[1] == 9) & (array[2] == 9) & (array[3] == 9) & (array[4] == 9))\n",
    "seq.nonzero()[0]-len(\"999999\")+1\n"
   ]
  },
  {
   "cell_type": "markdown",
   "id": "8446b35f",
   "metadata": {},
   "source": [
    "## ESERCIZIO 2\n",
    "Dato un numero intero n crea un array numpy unidimensionale fatto in questo modo:\n",
    "\n",
    "    [-n, -n+1, -n+2, ...,-1, 0, 1, ..., n-2, n-1, n]\n",
    "    \n",
    "Per esempio se n=3 l'array è:\n",
    "\n",
    "    [-3, -2, -1, 0, 1, 2, 3]\n",
    "    \n",
    "**NON PUOI USARE CICLI, IF E LISTE**"
   ]
  },
  {
   "cell_type": "code",
   "execution_count": 5,
   "id": "dd7a28bb",
   "metadata": {},
   "outputs": [
    {
     "data": {
      "text/plain": [
       "array([-3, -2, -1,  0,  1,  2,  3])"
      ]
     },
     "execution_count": 5,
     "metadata": {},
     "output_type": "execute_result"
    }
   ],
   "source": [
    "n = 3\n",
    "np.arange(-n, n+1)"
   ]
  },
  {
   "cell_type": "markdown",
   "id": "c681a56c",
   "metadata": {},
   "source": [
    "### ESERCIZIO 3\n",
    "Simula 100 partite di pari e dispari tra Alice e Bob. Ogni partita è giocata con una mano, quindi i numeri mostrati da Alice e da Bob sono sempre compresi tra 1 e 5. **Simula le partite usando un solo array bidimensionale.**\n",
    "\n",
    "Alice dichiara sempre pari e Bob sempre dispari.\n",
    "\n",
    "1) Quante volte vince Alice?\n",
    "\n",
    "2) Se nelle 100 partite Alice fa uscire sempre 3, quante volte vince?\n",
    "\n",
    "**NON PUOI USARE CICLI, IF E LISTE**"
   ]
  },
  {
   "cell_type": "code",
   "execution_count": 6,
   "id": "58177ffd",
   "metadata": {},
   "outputs": [
    {
     "data": {
      "text/plain": [
       "51"
      ]
     },
     "execution_count": 6,
     "metadata": {},
     "output_type": "execute_result"
    }
   ],
   "source": [
    "persone = 2\n",
    "partite = 100\n",
    "array2d = np.random.randint(1,6,(persone,partite))\n",
    "arrayPartite = np.sum(array2d, axis=0)\n",
    "p_alice_vinte = np.count_nonzero(arrayPartite % 2 == 0)\n",
    "p_alice_vinte"
   ]
  },
  {
   "cell_type": "code",
   "execution_count": 7,
   "metadata": {},
   "outputs": [
    {
     "data": {
      "text/plain": [
       "64"
      ]
     },
     "execution_count": 7,
     "metadata": {},
     "output_type": "execute_result"
    }
   ],
   "source": [
    "array2d[0] = 3\n",
    "arrayPartite = np.sum(array2d, axis=0)\n",
    "p_alice_vinte = np.count_nonzero(arrayPartite % 2 == 0)\n",
    "p_alice_vinte"
   ]
  },
  {
   "cell_type": "markdown",
   "id": "67ec09e9",
   "metadata": {},
   "source": [
    "## ESERCIZIO 4 (BONUS, Facoltativo per DSA)\n",
    "Usa numpy per creare l'immagine seguente composta da n righe e 2n colonne. L'intensità del colore è casuale nella metà sinistra della. matrice, a scacchiera nella metà destra. \n",
    "\n",
    "**NON PUOI USARE CICLI, IF E LISTE**\n",
    "\n",
    "Per esempio con n = 10:\n",
    "\n",
    "![matrice](matrice.png)\n",
    "\n",
    "Codice per visualizzare l'immagine:\n",
    "\n",
    "    plt.imshow(mat)"
   ]
  },
  {
   "cell_type": "code",
   "execution_count": 8,
   "id": "744604f2",
   "metadata": {},
   "outputs": [],
   "source": [
    "n = 10\n",
    "mat = np.zeros((n,2*n))\n",
    "mat[:,:n] = np.random.randint(0,255,(n,n))"
   ]
  },
  {
   "cell_type": "code",
   "execution_count": 9,
   "metadata": {},
   "outputs": [
    {
     "data": {
      "text/plain": [
       "<matplotlib.image.AxesImage at 0x1a57f45a2d0>"
      ]
     },
     "execution_count": 9,
     "metadata": {},
     "output_type": "execute_result"
    },
    {
     "data": {
      "image/png": "[encoded data removed]",
      "text/plain": [
       "<Figure size 640x480 with 1 Axes>"
      ]
     },
     "metadata": {},
     "output_type": "display_data"
    }
   ],
   "source": [
    "mat[::2, n-1::2] = 255\n",
    "mat[1::2, n::2] = 255\n",
    "\n",
    "plt.imshow(mat)"
   ]
  }
 ],
 "metadata": {
  "kernelspec": {
   "display_name": "Python 3 (ipykernel)",
   "language": "python",
   "name": "python3"
  },
  "language_info": {
   "codemirror_mode": {
    "name": "ipython",
    "version": 3
   },
   "file_extension": ".py",
   "mimetype": "text/x-python",
   "name": "python",
   "nbconvert_exporter": "python",
   "pygments_lexer": "ipython3",
   "version": "3.12.0"
  }
 },
 "nbformat": 4,
 "nbformat_minor": 5
}
