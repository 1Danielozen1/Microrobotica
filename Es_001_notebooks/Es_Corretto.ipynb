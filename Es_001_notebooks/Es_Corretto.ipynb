{
 "cells": [
  {
   "cell_type": "markdown",
   "metadata": {},
   "source": [
    "### Esercizio su Seu personaggi in cerca di autore di Pirandello"
   ]
  },
  {
   "cell_type": "code",
   "execution_count": 1,
   "metadata": {},
   "outputs": [],
   "source": [
    "import random\n",
    "BAD_CHARS = ['»', '«', '<', '<', '>', '>', \"'\", '!', '#', '$', '%', '&', \"'\", '(', ')', '*', '+', ',', '-', '.', '/', ':', ';', '<', '=', '>', '?', '@', '[', \"\\\\\", ']', '^', '_', '`', '{', '|', '}', '~', \"'\", '\\n', '\"', ' ']\n",
    "GOOD_CHAR = \" \""
   ]
  },
  {
   "cell_type": "code",
   "execution_count": 4,
   "metadata": {},
   "outputs": [],
   "source": [
    "def file_2_lisOfwords(file,bad_chars=BAD_CHARS, good_char = GOOD_CHAR):\n",
    "\n",
    "    \"\"\"\n",
    "    This function returns the list of words contained in a file\n",
    "    Input:\n",
    "    - file : name of the file to be read.\n",
    "    - bad_chars : list containing all characters that should not appear\n",
    "    - good_char : character used as separator between words and spaces\n",
    "    \"\"\"\n",
    "    file = open(file,\"r\",encoding=\"utf-8\")\n",
    "    lines = file.readlines()\n",
    "    file.close()\n",
    "\n",
    "    lines_without_carriage_return = [line[:-1] for line in lines \n",
    "                                 if len(line) > 1]\n",
    "    \n",
    "    book = \" \".join(lines_without_carriage_return).lower()\n",
    "\n",
    "    for bad_char in BAD_CHARS:\n",
    "        book = book.replace(bad_char,GOOD_CHAR)\n",
    "\n",
    "    words = book.split(\" \") #split\n",
    "    words = [word for word in words if len(word) > 0] # removing empty words\n",
    "        \n",
    "    return words"
   ]
  },
  {
   "cell_type": "code",
   "execution_count": 5,
   "metadata": {},
   "outputs": [],
   "source": [
    "words = file_2_lisOfwords(\"./sei_personaggi_in_cerca_dautore_Luigi_Pirandello.txt\")"
   ]
  },
  {
   "cell_type": "code",
   "execution_count": 6,
   "metadata": {},
   "outputs": [],
   "source": [
    "words_count = {}\n",
    "for word in words:\n",
    "    if word in words_count:\n",
    "        #word exists in dict\n",
    "        words_count[word] += 1\n",
    "    else:\n",
    "        #word does not exist in dict\n",
    "        words_count[word] = 1"
   ]
  },
  {
   "cell_type": "code",
   "execution_count": 7,
   "metadata": {},
   "outputs": [],
   "source": [
    "def parolaSucc():\n",
    "    words_count={}\n",
    "    words_next={}\n",
    "    for i, word in enumerate(words):\n",
    "        if word in words_count:\n",
    "                #word exist in dict\n",
    "            words_count[word]+=1\n",
    "        else:\n",
    "                #word does not exist in dict\n",
    "            words_count[word]=1\n",
    "        if i<(len(words)-1):\n",
    "            if word in words_next:\n",
    "                #pass\n",
    "                words_next[word].append(words[i+1])\n",
    "            else:\n",
    "                words_next[word]=[]\n",
    "                words_next[word].append(words[i+1])\n",
    "        \n",
    "    return (words_count,words_next)"
   ]
  },
  {
   "cell_type": "code",
   "execution_count": 8,
   "metadata": {},
   "outputs": [],
   "source": [
    "d1, d2 = parolaSucc()"
   ]
  },
  {
   "cell_type": "code",
   "execution_count": 9,
   "metadata": {},
   "outputs": [
    {
     "name": "stdout",
     "output_type": "stream",
     "text": [
      "faccia io le dispiace il dispetto di scena tra l \n"
     ]
    }
   ],
   "source": [
    "a = \"bella\"\n",
    "n = 10\n",
    "s = \"\"\n",
    "for b in range(n):\n",
    "    if a in d2: \n",
    "        c =  random.choice(d2[a])\n",
    "        s += c+\" \"\n",
    "        a = c\n",
    "print(s)"
   ]
  }
 ],
 "metadata": {
  "kernelspec": {
   "display_name": "Python 3",
   "language": "python",
   "name": "python3"
  },
  "language_info": {
   "codemirror_mode": {
    "name": "ipython",
    "version": 3
   },
   "file_extension": ".py",
   "mimetype": "text/x-python",
   "name": "python",
   "nbconvert_exporter": "python",
   "pygments_lexer": "ipython3",
   "version": "3.11.4"
  },
  "orig_nbformat": 4
 },
 "nbformat": 4,
 "nbformat_minor": 2
}
