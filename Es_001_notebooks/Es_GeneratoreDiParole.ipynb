{
 "cells": [
  {
   "cell_type": "code",
   "execution_count": null,
   "metadata": {},
   "outputs": [],
   "source": [
    "import random\n",
    "BAD_CHARS = ['»', '«', '<', '<', '>', '>', \"'\", '!', '#', '$', '%', '&', \"'\", '(', ')', '*', '+', ',', '-', '.', '/', ':', ';', '<', '=', '>', '?', '@', '[', \"\\\\\", ']', '^', '_', '`', '{', '|', '}', '~', \"'\", '\\n', '\"', ' ']\n",
    "GOOD_CHAR = \" \""
   ]
  },
  {
   "cell_type": "code",
   "execution_count": null,
   "metadata": {},
   "outputs": [],
   "source": [
    "class TextGenerator():\n",
    "    def __init__(self, file_path, bad_chars = BAD_CHARS, good_chars = GOOD_CHAR) -> None:\n",
    "        self.file_path = file_path\n",
    "        self.bad_chars = bad_chars\n",
    "        self.good_chars = good_chars\n",
    "        self.words = []\n",
    "        self.words_next = {}\n",
    "\n",
    "    def file_2_lisOfwords(self):\n",
    "\n",
    "        \"\"\"\n",
    "        This function returns the list of words contained in a file\n",
    "        Input:\n",
    "        - file : name of the file to be read.\n",
    "        - bad_chars : list containing all characters that should not appear\n",
    "        - good_char : character used as separator between words and spaces\n",
    "        \"\"\"\n",
    "        file = open(self.file_path,\"r\",encoding=\"utf-8\")\n",
    "        lines = file.readlines()\n",
    "        file.close()\n",
    "\n",
    "        lines_without_carriage_return = [line[:-1] for line in lines \n",
    "                                    if len(line) > 1]\n",
    "        \n",
    "        book = \" \".join(lines_without_carriage_return).lower()\n",
    "\n",
    "        for bad_char in self.bad_chars:\n",
    "            book = book.replace(bad_char,self.good_chars)\n",
    "\n",
    "        self.words = book.split(\" \") #split\n",
    "        self.words = [word for word in self.words if len(word) > 0] # removing empty words\n",
    "                \n",
    "    def fit(self):\n",
    "        self.file_2_lisOfwords()\n",
    "\n",
    "        for i, word in enumerate(self.words):\n",
    "            if i<(len(self.words)-1):\n",
    "                if word in self.words_next:\n",
    "                    #pass\n",
    "                    self.words_next[word].append(self.words[i+1])\n",
    "                else:\n",
    "                    self.words_next[word]=[]\n",
    "                    self.words_next[word].append(self.words[i+1])\n",
    "\n",
    "    def generate(self, first_word, length):\n",
    "        s = \"\"\n",
    "        a = first_word\n",
    "        for _ in range(length):\n",
    "            if a in self.words_next: \n",
    "                c =  random.choice(self.words_next[a])\n",
    "                s += c+\" \"\n",
    "                a = c \n",
    "        return s"
   ]
  },
  {
   "cell_type": "code",
   "execution_count": null,
   "metadata": {},
   "outputs": [],
   "source": [
    "tg = TextGenerator(\"./sei_personaggi_in_cerca_dautore_Luigi_Pirandello.txt\")\n",
    "tg.fit()\n",
    "tg.generate(\"sei\", 30)"
   ]
  }
 ],
 "metadata": {
  "kernelspec": {
   "display_name": "Python 3",
   "language": "python",
   "name": "python3"
  },
  "language_info": {
   "codemirror_mode": {
    "name": "ipython",
    "version": 3
   },
   "file_extension": ".py",
   "mimetype": "text/x-python",
   "name": "python",
   "nbconvert_exporter": "python",
   "pygments_lexer": "ipython3",
   "version": "3.11.4"
  },
  "orig_nbformat": 4
 },
 "nbformat": 4,
 "nbformat_minor": 2
}
