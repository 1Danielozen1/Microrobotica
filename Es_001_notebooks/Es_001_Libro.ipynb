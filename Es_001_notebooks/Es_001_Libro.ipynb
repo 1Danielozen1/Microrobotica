{
 "cells": [
  {
   "cell_type": "markdown",
   "metadata": {},
   "source": [
    "### Esercizio Libro\n",
    "\n",
    "Rimuovere la punteggiatura da un libro"
   ]
  },
  {
   "cell_type": "code",
   "execution_count": 7,
   "metadata": {},
   "outputs": [],
   "source": [
    "GOOD_CHAR = \"\"\n",
    "string_punt = \"»«<<>>'!#$%&'()*+,-./:;<=>?@[\\]^_`{|}~'\""
   ]
  },
  {
   "cell_type": "code",
   "execution_count": 8,
   "metadata": {},
   "outputs": [],
   "source": [
    "book = open(\"./sei_personaggi_in_cerca_dautore_Luigi_Pirandello.txt\",\"r\",encoding=\"utf-8\")\n",
    "lista = []\n",
    "lista = book.readlines()\n",
    "book.close()"
   ]
  },
  {
   "cell_type": "code",
   "execution_count": 9,
   "metadata": {},
   "outputs": [],
   "source": [
    "l_punt = []\n",
    "for a in string_punt:\n",
    "    l_punt.append(a)\n",
    "l_punt.append(\"\\n\")\n",
    "l_punt.append('\"')\n",
    "l_punt.append(\" \")"
   ]
  },
  {
   "cell_type": "code",
   "execution_count": 10,
   "metadata": {},
   "outputs": [],
   "source": [
    "def pulisciRiga(n):\n",
    "    s = \"\"\n",
    "    for v in n:\n",
    "        if v in l_punt:\n",
    "            s = s+GOOD_CHAR\n",
    "        else: \n",
    "            s = s+v\n",
    "    return s"
   ]
  },
  {
   "cell_type": "code",
   "execution_count": 11,
   "metadata": {},
   "outputs": [],
   "source": [
    "final_string = \"\"\n",
    "for a in lista:\n",
    "    a = pulisciRiga(a)\n",
    "    a.split(\"\\n\")\n",
    "    final_string += a\n"
   ]
  },
  {
   "cell_type": "code",
   "execution_count": 12,
   "metadata": {},
   "outputs": [],
   "source": [
    "file = open(\"./testoFinale.txt\",\"w\",encoding=\"utf-8\")\n",
    "file.write(final_string)\n",
    "file.close()"
   ]
  }
 ],
 "metadata": {
  "kernelspec": {
   "display_name": "Python 3",
   "language": "python",
   "name": "python3"
  },
  "language_info": {
   "codemirror_mode": {
    "name": "ipython",
    "version": 3
   },
   "file_extension": ".py",
   "mimetype": "text/x-python",
   "name": "python",
   "nbconvert_exporter": "python",
   "pygments_lexer": "ipython3",
   "version": "3.11.4"
  },
  "orig_nbformat": 4
 },
 "nbformat": 4,
 "nbformat_minor": 2
}
